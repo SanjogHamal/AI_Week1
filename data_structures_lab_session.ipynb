{
 "cells": [
  {
   "cell_type": "markdown",
   "metadata": {},
   "source": [
    "# Stack\n",
    "A stack is a container of objects that are inserted and removed according to the last-in first-out (LIFO) principle. In the stack only two operations are allowed: push the item into the stack, and pop the item out of the stack. A stack is a limited access data structure - elements can be added and removed from the stack only at the top. Push adds an item to the top of the stack, pop removes the item from the top."
   ]
  },
  {
   "cell_type": "code",
   "execution_count": 5,
   "metadata": {},
   "outputs": [
    {
     "name": "stdout",
     "output_type": "stream",
     "text": [
      "False\n",
      "[1, 2, 3]\n",
      "3\n",
      "2\n",
      "1\n"
     ]
    }
   ],
   "source": [
    "#implementation of a stack in python\n",
    "\n",
    "class Stack():\n",
    "    def __init__(self,initial):\n",
    "        self.items = [initial] #intialize stack with 1 initial element\n",
    "    def isEmpty(self):\n",
    "        return self.items == []\n",
    "    def push(self,item):\n",
    "        self.items.append(item)\n",
    "    def pop(self):\n",
    "        return self.items.pop()\n",
    "    def size(self):\n",
    "        return len(self.items)\n",
    "    \n",
    "q = Stack(1)\n",
    "q.push(2)\n",
    "q.push(3)\n",
    "print(q.isEmpty())\n",
    "print(q.items)\n",
    "print(q.pop())\n",
    "print(q.pop())\n",
    "print(q.pop())"
   ]
  },
  {
   "cell_type": "markdown",
   "metadata": {},
   "source": [
    "# Queue\n",
    "A queue is a container of objects (a linear collection) that are inserted and removed according to the first-in first-out (FIFO) principle. New additions are made to the back of the queue, while removal happens in the front. In the queue only two operations are allowed enqueue and dequeue. Enqueue means to insert an item into the back of the queue, dequeue means removing the front item."
   ]
  },
  {
   "cell_type": "code",
   "execution_count": 2,
   "metadata": {},
   "outputs": [
    {
     "name": "stdout",
     "output_type": "stream",
     "text": [
      "False\n",
      "[3, 2, 1]\n",
      "1\n",
      "2\n"
     ]
    }
   ],
   "source": [
    "#implementation of a queue in python\n",
    "\n",
    "class Queue():\n",
    "    def __init__(self,initial):\n",
    "        self.items = [initial]  #intialize queue with 1 initial element\n",
    "    def isEmpty(self):\n",
    "        return self.items == []\n",
    "    def enqueue(self,item):\n",
    "        self.items.insert(0,item)\n",
    "    def dequeue(self):\n",
    "        return self.items.pop()\n",
    "    def size(self):\n",
    "        return len(self.items)\n",
    "    \n",
    "q = Queue(1)\n",
    "q.enqueue(2)\n",
    "q.enqueue(3)\n",
    "print(q.isEmpty())\n",
    "print(q.items)\n",
    "print(q.dequeue())\n",
    "print(q.dequeue())"
   ]
  },
  {
   "cell_type": "markdown",
   "metadata": {},
   "source": [
    "# Priority Queue\n",
    "\n",
    "Priority Queue is an extension of queue with following properties.\n",
    "1. Every element has a priority score associated with it.\n",
    "2. An element with the smallest priority score is dequeued before an element with increasing priority scores.\n",
    "3. If two elements have the same priority score, they are dequeued according to their order in the queue."
   ]
  },
  {
   "cell_type": "code",
   "execution_count": 7,
   "metadata": {},
   "outputs": [
    {
     "name": "stdout",
     "output_type": "stream",
     "text": [
      "5\n"
     ]
    }
   ],
   "source": [
    "#implementation of a priority queue in python\n",
    "\n",
    "from heapq import heappush, heappop\n",
    "\n",
    "class PriorityQueue():\n",
    "    def __init__(self,value):\n",
    "        self.items = []\n",
    "        heappush(self.items,(0, value)) #each element is stored as a tuple pair of priority score and actual value\n",
    "    def isEmpty(self):\n",
    "        return self.items == []\n",
    "    def dequeue(self):\n",
    "        return heappop(self.items) #returns the element (tuple) with the smallest priority score\n",
    "    def enqueue(self,item):\n",
    "        heappush(self.items,item)\n",
    "    def size(self):\n",
    "        return len(self.items)\n",
    "    \n",
    "p = PriorityQueue(2)\n",
    "p.enqueue((1, 33)) #while inserting elements, need to pass them as tuples of priority score and actual value\n",
    "p.enqueue((2, 32)) #while inserting elements, need to pass them as tuples of priority score and actual value\n",
    "p.enqueue((4, 35))\n",
    "p.enqueue((3, 30))\n",
    "print(p.size())"
   ]
  },
  {
   "cell_type": "code",
   "execution_count": 9,
   "metadata": {},
   "outputs": [
    {
     "name": "stdout",
     "output_type": "stream",
     "text": [
      "[(0, 2), (1, 33), (2, 32), (4, 35), (3, 30)]\n"
     ]
    }
   ],
   "source": [
    "print(p.items)"
   ]
  },
  {
   "cell_type": "code",
   "execution_count": 13,
   "metadata": {},
   "outputs": [
    {
     "name": "stdout",
     "output_type": "stream",
     "text": [
      "False\n",
      "(3, 30)\n",
      "(4, 35)\n"
     ]
    },
    {
     "ename": "IndexError",
     "evalue": "index out of range",
     "output_type": "error",
     "traceback": [
      "\u001b[1;31m---------------------------------------------------------------------------\u001b[0m",
      "\u001b[1;31mIndexError\u001b[0m                                Traceback (most recent call last)",
      "Cell \u001b[1;32mIn[13], line 4\u001b[0m\n\u001b[0;32m      2\u001b[0m \u001b[38;5;28mprint\u001b[39m(p\u001b[38;5;241m.\u001b[39mdequeue())\n\u001b[0;32m      3\u001b[0m \u001b[38;5;28mprint\u001b[39m(p\u001b[38;5;241m.\u001b[39mdequeue())\n\u001b[1;32m----> 4\u001b[0m \u001b[38;5;28mprint\u001b[39m(p\u001b[38;5;241m.\u001b[39mdequeue())\n\u001b[0;32m      5\u001b[0m \u001b[38;5;28mprint\u001b[39m(p\u001b[38;5;241m.\u001b[39mdequeue())\n",
      "Cell \u001b[1;32mIn[7], line 12\u001b[0m, in \u001b[0;36mPriorityQueue.dequeue\u001b[1;34m(self)\u001b[0m\n\u001b[0;32m     11\u001b[0m \u001b[38;5;28;01mdef\u001b[39;00m \u001b[38;5;21mdequeue\u001b[39m(\u001b[38;5;28mself\u001b[39m):\n\u001b[1;32m---> 12\u001b[0m     \u001b[38;5;28;01mreturn\u001b[39;00m heappop(\u001b[38;5;28mself\u001b[39m\u001b[38;5;241m.\u001b[39mitems)\n",
      "\u001b[1;31mIndexError\u001b[0m: index out of range"
     ]
    }
   ],
   "source": [
    "print(p.isEmpty())\n",
    "print(p.dequeue())\n",
    "print(p.dequeue())\n",
    "print(p.dequeue())\n",
    "print(p.dequeue())"
   ]
  },
  {
   "cell_type": "code",
   "execution_count": 6,
   "metadata": {},
   "outputs": [
    {
     "name": "stdout",
     "output_type": "stream",
     "text": [
      "True\n"
     ]
    }
   ],
   "source": [
    "print(p.isEmpty())"
   ]
  },
  {
   "cell_type": "code",
   "execution_count": null,
   "metadata": {},
   "outputs": [],
   "source": []
  }
 ],
 "metadata": {
  "kernelspec": {
   "display_name": "Python 3 (ipykernel)",
   "language": "python",
   "name": "python3"
  },
  "language_info": {
   "codemirror_mode": {
    "name": "ipython",
    "version": 3
   },
   "file_extension": ".py",
   "mimetype": "text/x-python",
   "name": "python",
   "nbconvert_exporter": "python",
   "pygments_lexer": "ipython3",
   "version": "3.12.4"
  }
 },
 "nbformat": 4,
 "nbformat_minor": 4
}
